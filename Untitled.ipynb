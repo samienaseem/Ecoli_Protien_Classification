{
 "cells": [
  {
   "cell_type": "code",
   "execution_count": 1,
   "id": "7b962983-a430-4c8f-907b-101fe68e7783",
   "metadata": {},
   "outputs": [
    {
     "ename": "ERROR",
     "evalue": "Error in eval(expr, envir, enclos): object 'pacman' not found\n",
     "output_type": "error",
     "traceback": [
      "Error in eval(expr, envir, enclos): object 'pacman' not found\nTraceback:\n"
     ]
    }
   ],
   "source": [
    "pacman"
   ]
  },
  {
   "cell_type": "code",
   "execution_count": 2,
   "id": "c1bfbf95-6cd5-462e-8fd8-6e7e15481aa4",
   "metadata": {},
   "outputs": [
    {
     "ename": "ERROR",
     "evalue": "Error in library(pacman): there is no package called ‘pacman’\n",
     "output_type": "error",
     "traceback": [
      "Error in library(pacman): there is no package called ‘pacman’\nTraceback:\n",
      "1. library(pacman)"
     ]
    }
   ],
   "source": [
    "library(pacman)\n"
   ]
  },
  {
   "cell_type": "code",
   "execution_count": 3,
   "id": "e0ad3c41-1086-43d1-8b43-3f656d06c6b3",
   "metadata": {},
   "outputs": [
    {
     "ename": "ERROR",
     "evalue": "Error in library(pacman): there is no package called ‘pacman’\n",
     "output_type": "error",
     "traceback": [
      "Error in library(pacman): there is no package called ‘pacman’\nTraceback:\n",
      "1. library(pacman)"
     ]
    }
   ],
   "source": [
    "library(pacman)"
   ]
  },
  {
   "cell_type": "code",
   "execution_count": null,
   "id": "e22ba942-a857-4e58-acbc-07d55ab60dd8",
   "metadata": {},
   "outputs": [],
   "source": []
  }
 ],
 "metadata": {
  "kernelspec": {
   "display_name": "R",
   "language": "R",
   "name": "ir"
  },
  "language_info": {
   "codemirror_mode": "r",
   "file_extension": ".r",
   "mimetype": "text/x-r-source",
   "name": "R",
   "pygments_lexer": "r",
   "version": "4.0.5"
  }
 },
 "nbformat": 4,
 "nbformat_minor": 5
}

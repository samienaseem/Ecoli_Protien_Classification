{
 "cells": [
  {
   "cell_type": "markdown",
   "id": "2e0746cd",
   "metadata": {},
   "source": [
    "Importing the required packages and libraries"
   ]
  },
  {
   "cell_type": "code",
   "execution_count": 2,
   "id": "96449c0a",
   "metadata": {},
   "outputs": [],
   "source": [
    "import pandas as pd\n",
    "import numpy as np\n",
    "import matplotlib.pyplot as plt\n",
    "import seaborn as sns\n",
    "from sklearn.model_selection import train_test_split\n",
    "from sklearn.preprocessing import MinMaxScaler\n",
    "from sklearn.naive_bayes import GaussianNB\n",
    "from sklearn.linear_model import LogisticRegression\n",
    "from sklearn.metrics import accuracy_score\n",
    "from sklearn.metrics import classification_report, confusion_matrix, ConfusionMatrixDisplay, roc_curve, auc"
   ]
  },
  {
   "cell_type": "markdown",
   "id": "0e160c06",
   "metadata": {},
   "source": [
    "load the data"
   ]
  },
  {
   "cell_type": "code",
   "execution_count": 3,
   "id": "cb851cd2",
   "metadata": {},
   "outputs": [],
   "source": [
    "data = pd.read_csv('ecoli.csv')"
   ]
  },
  {
   "cell_type": "markdown",
   "id": "cdd934bb",
   "metadata": {},
   "source": [
    "looking at the dataset's initial rows"
   ]
  },
  {
   "cell_type": "code",
   "execution_count": 4,
   "id": "6711ac4a",
   "metadata": {},
   "outputs": [
    {
     "data": {
      "text/html": [
       "<div>\n",
       "<style scoped>\n",
       "    .dataframe tbody tr th:only-of-type {\n",
       "        vertical-align: middle;\n",
       "    }\n",
       "\n",
       "    .dataframe tbody tr th {\n",
       "        vertical-align: top;\n",
       "    }\n",
       "\n",
       "    .dataframe thead th {\n",
       "        text-align: right;\n",
       "    }\n",
       "</style>\n",
       "<table border=\"1\" class=\"dataframe\">\n",
       "  <thead>\n",
       "    <tr style=\"text-align: right;\">\n",
       "      <th></th>\n",
       "      <th>X1</th>\n",
       "      <th>X2</th>\n",
       "      <th>X3</th>\n",
       "      <th>X4</th>\n",
       "      <th>X5</th>\n",
       "      <th>C</th>\n",
       "    </tr>\n",
       "  </thead>\n",
       "  <tbody>\n",
       "    <tr>\n",
       "      <th>0</th>\n",
       "      <td>-0.007564</td>\n",
       "      <td>0.222171</td>\n",
       "      <td>0.158978</td>\n",
       "      <td>1.159728</td>\n",
       "      <td>0.267387</td>\n",
       "      <td>0</td>\n",
       "    </tr>\n",
       "    <tr>\n",
       "      <th>1</th>\n",
       "      <td>0.171858</td>\n",
       "      <td>-0.041690</td>\n",
       "      <td>0.250635</td>\n",
       "      <td>0.165851</td>\n",
       "      <td>0.461043</td>\n",
       "      <td>0</td>\n",
       "    </tr>\n",
       "    <tr>\n",
       "      <th>2</th>\n",
       "      <td>0.736046</td>\n",
       "      <td>0.343963</td>\n",
       "      <td>0.749114</td>\n",
       "      <td>0.561858</td>\n",
       "      <td>0.712554</td>\n",
       "      <td>0</td>\n",
       "    </tr>\n",
       "    <tr>\n",
       "      <th>3</th>\n",
       "      <td>0.000639</td>\n",
       "      <td>-0.175082</td>\n",
       "      <td>0.070584</td>\n",
       "      <td>0.317284</td>\n",
       "      <td>0.582597</td>\n",
       "      <td>0</td>\n",
       "    </tr>\n",
       "    <tr>\n",
       "      <th>4</th>\n",
       "      <td>0.571760</td>\n",
       "      <td>-0.244216</td>\n",
       "      <td>0.234515</td>\n",
       "      <td>0.902095</td>\n",
       "      <td>0.594026</td>\n",
       "      <td>0</td>\n",
       "    </tr>\n",
       "    <tr>\n",
       "      <th>5</th>\n",
       "      <td>0.114075</td>\n",
       "      <td>0.980980</td>\n",
       "      <td>0.927221</td>\n",
       "      <td>0.746992</td>\n",
       "      <td>0.180687</td>\n",
       "      <td>0</td>\n",
       "    </tr>\n",
       "    <tr>\n",
       "      <th>6</th>\n",
       "      <td>0.698920</td>\n",
       "      <td>1.386450</td>\n",
       "      <td>0.672130</td>\n",
       "      <td>1.052399</td>\n",
       "      <td>1.068595</td>\n",
       "      <td>0</td>\n",
       "    </tr>\n",
       "    <tr>\n",
       "      <th>7</th>\n",
       "      <td>0.375664</td>\n",
       "      <td>-0.139542</td>\n",
       "      <td>0.482373</td>\n",
       "      <td>1.493782</td>\n",
       "      <td>0.446241</td>\n",
       "      <td>0</td>\n",
       "    </tr>\n",
       "    <tr>\n",
       "      <th>8</th>\n",
       "      <td>1.045081</td>\n",
       "      <td>-0.056504</td>\n",
       "      <td>0.855692</td>\n",
       "      <td>-0.579449</td>\n",
       "      <td>1.102309</td>\n",
       "      <td>0</td>\n",
       "    </tr>\n",
       "    <tr>\n",
       "      <th>9</th>\n",
       "      <td>0.649942</td>\n",
       "      <td>0.383944</td>\n",
       "      <td>0.457631</td>\n",
       "      <td>0.168319</td>\n",
       "      <td>0.503953</td>\n",
       "      <td>0</td>\n",
       "    </tr>\n",
       "  </tbody>\n",
       "</table>\n",
       "</div>"
      ],
      "text/plain": [
       "         X1        X2        X3        X4        X5  C\n",
       "0 -0.007564  0.222171  0.158978  1.159728  0.267387  0\n",
       "1  0.171858 -0.041690  0.250635  0.165851  0.461043  0\n",
       "2  0.736046  0.343963  0.749114  0.561858  0.712554  0\n",
       "3  0.000639 -0.175082  0.070584  0.317284  0.582597  0\n",
       "4  0.571760 -0.244216  0.234515  0.902095  0.594026  0\n",
       "5  0.114075  0.980980  0.927221  0.746992  0.180687  0\n",
       "6  0.698920  1.386450  0.672130  1.052399  1.068595  0\n",
       "7  0.375664 -0.139542  0.482373  1.493782  0.446241  0\n",
       "8  1.045081 -0.056504  0.855692 -0.579449  1.102309  0\n",
       "9  0.649942  0.383944  0.457631  0.168319  0.503953  0"
      ]
     },
     "execution_count": 4,
     "metadata": {},
     "output_type": "execute_result"
    }
   ],
   "source": [
    "data.head(10)"
   ]
  },
  {
   "cell_type": "markdown",
   "id": "40ae49c6",
   "metadata": {},
   "source": [
    "No. of (rows,columns) in the dataset"
   ]
  },
  {
   "cell_type": "code",
   "execution_count": 5,
   "id": "013049fd",
   "metadata": {},
   "outputs": [
    {
     "data": {
      "text/plain": [
       "(129, 6)"
      ]
     },
     "execution_count": 5,
     "metadata": {},
     "output_type": "execute_result"
    }
   ],
   "source": [
    "data.shape"
   ]
  },
  {
   "cell_type": "markdown",
   "id": "2143a40a",
   "metadata": {},
   "source": [
    "Number of instances for each target variable checking for class imbalance"
   ]
  },
  {
   "cell_type": "code",
   "execution_count": 6,
   "id": "544eda23",
   "metadata": {},
   "outputs": [
    {
     "data": {
      "text/plain": [
       "C\n",
       "0    77\n",
       "1    52\n",
       "Name: count, dtype: int64"
      ]
     },
     "execution_count": 6,
     "metadata": {},
     "output_type": "execute_result"
    }
   ],
   "source": [
    "data['C'].value_counts()"
   ]
  },
  {
   "cell_type": "markdown",
   "id": "e072c2ba",
   "metadata": {},
   "source": [
    "Missing or Null values in dataset"
   ]
  },
  {
   "cell_type": "code",
   "execution_count": 7,
   "id": "40298a5c",
   "metadata": {},
   "outputs": [
    {
     "data": {
      "text/plain": [
       "X1    0\n",
       "X2    0\n",
       "X3    0\n",
       "X4    0\n",
       "X5    0\n",
       "C     0\n",
       "dtype: int64"
      ]
     },
     "execution_count": 7,
     "metadata": {},
     "output_type": "execute_result"
    }
   ],
   "source": [
    "data.isnull().sum()"
   ]
  },
  {
   "cell_type": "markdown",
   "id": "52570b94",
   "metadata": {},
   "source": [
    "Description of the dataset"
   ]
  },
  {
   "cell_type": "code",
   "execution_count": 8,
   "id": "7719bbc7",
   "metadata": {},
   "outputs": [
    {
     "data": {
      "text/html": [
       "<div>\n",
       "<style scoped>\n",
       "    .dataframe tbody tr th:only-of-type {\n",
       "        vertical-align: middle;\n",
       "    }\n",
       "\n",
       "    .dataframe tbody tr th {\n",
       "        vertical-align: top;\n",
       "    }\n",
       "\n",
       "    .dataframe thead th {\n",
       "        text-align: right;\n",
       "    }\n",
       "</style>\n",
       "<table border=\"1\" class=\"dataframe\">\n",
       "  <thead>\n",
       "    <tr style=\"text-align: right;\">\n",
       "      <th></th>\n",
       "      <th>X1</th>\n",
       "      <th>X2</th>\n",
       "      <th>X3</th>\n",
       "      <th>X4</th>\n",
       "      <th>X5</th>\n",
       "      <th>C</th>\n",
       "    </tr>\n",
       "  </thead>\n",
       "  <tbody>\n",
       "    <tr>\n",
       "      <th>count</th>\n",
       "      <td>129.000000</td>\n",
       "      <td>129.000000</td>\n",
       "      <td>129.000000</td>\n",
       "      <td>129.000000</td>\n",
       "      <td>129.000000</td>\n",
       "      <td>129.000000</td>\n",
       "    </tr>\n",
       "    <tr>\n",
       "      <th>mean</th>\n",
       "      <td>0.539102</td>\n",
       "      <td>0.597149</td>\n",
       "      <td>0.521040</td>\n",
       "      <td>0.686822</td>\n",
       "      <td>0.565779</td>\n",
       "      <td>0.403101</td>\n",
       "    </tr>\n",
       "    <tr>\n",
       "      <th>std</th>\n",
       "      <td>0.478155</td>\n",
       "      <td>0.433768</td>\n",
       "      <td>0.378367</td>\n",
       "      <td>0.438045</td>\n",
       "      <td>0.412171</td>\n",
       "      <td>0.492433</td>\n",
       "    </tr>\n",
       "    <tr>\n",
       "      <th>min</th>\n",
       "      <td>-0.430791</td>\n",
       "      <td>-0.281866</td>\n",
       "      <td>-0.263064</td>\n",
       "      <td>-0.600203</td>\n",
       "      <td>-0.484916</td>\n",
       "      <td>0.000000</td>\n",
       "    </tr>\n",
       "    <tr>\n",
       "      <th>25%</th>\n",
       "      <td>0.180917</td>\n",
       "      <td>0.284631</td>\n",
       "      <td>0.250635</td>\n",
       "      <td>0.416989</td>\n",
       "      <td>0.267387</td>\n",
       "      <td>0.000000</td>\n",
       "    </tr>\n",
       "    <tr>\n",
       "      <th>50%</th>\n",
       "      <td>0.559401</td>\n",
       "      <td>0.535186</td>\n",
       "      <td>0.495043</td>\n",
       "      <td>0.716888</td>\n",
       "      <td>0.568919</td>\n",
       "      <td>0.000000</td>\n",
       "    </tr>\n",
       "    <tr>\n",
       "      <th>75%</th>\n",
       "      <td>0.826496</td>\n",
       "      <td>0.864219</td>\n",
       "      <td>0.793372</td>\n",
       "      <td>0.962953</td>\n",
       "      <td>0.836665</td>\n",
       "      <td>1.000000</td>\n",
       "    </tr>\n",
       "    <tr>\n",
       "      <th>max</th>\n",
       "      <td>2.044694</td>\n",
       "      <td>1.711213</td>\n",
       "      <td>1.486272</td>\n",
       "      <td>1.743930</td>\n",
       "      <td>1.848438</td>\n",
       "      <td>1.000000</td>\n",
       "    </tr>\n",
       "  </tbody>\n",
       "</table>\n",
       "</div>"
      ],
      "text/plain": [
       "               X1          X2          X3          X4          X5           C\n",
       "count  129.000000  129.000000  129.000000  129.000000  129.000000  129.000000\n",
       "mean     0.539102    0.597149    0.521040    0.686822    0.565779    0.403101\n",
       "std      0.478155    0.433768    0.378367    0.438045    0.412171    0.492433\n",
       "min     -0.430791   -0.281866   -0.263064   -0.600203   -0.484916    0.000000\n",
       "25%      0.180917    0.284631    0.250635    0.416989    0.267387    0.000000\n",
       "50%      0.559401    0.535186    0.495043    0.716888    0.568919    0.000000\n",
       "75%      0.826496    0.864219    0.793372    0.962953    0.836665    1.000000\n",
       "max      2.044694    1.711213    1.486272    1.743930    1.848438    1.000000"
      ]
     },
     "execution_count": 8,
     "metadata": {},
     "output_type": "execute_result"
    }
   ],
   "source": [
    "data.describe()"
   ]
  },
  {
   "cell_type": "markdown",
   "id": "06e40923",
   "metadata": {},
   "source": [
    "Checking for duplicate data"
   ]
  },
  {
   "cell_type": "code",
   "execution_count": 9,
   "id": "0f091d5f",
   "metadata": {},
   "outputs": [
    {
     "data": {
      "text/plain": [
       "0"
      ]
     },
     "execution_count": 9,
     "metadata": {},
     "output_type": "execute_result"
    }
   ],
   "source": [
    "data.duplicated().sum()"
   ]
  },
  {
   "cell_type": "code",
   "execution_count": 10,
   "id": "331822ce",
   "metadata": {},
   "outputs": [
    {
     "data": {
      "text/html": [
       "<div>\n",
       "<style scoped>\n",
       "    .dataframe tbody tr th:only-of-type {\n",
       "        vertical-align: middle;\n",
       "    }\n",
       "\n",
       "    .dataframe tbody tr th {\n",
       "        vertical-align: top;\n",
       "    }\n",
       "\n",
       "    .dataframe thead th {\n",
       "        text-align: right;\n",
       "    }\n",
       "</style>\n",
       "<table border=\"1\" class=\"dataframe\">\n",
       "  <thead>\n",
       "    <tr style=\"text-align: right;\">\n",
       "      <th></th>\n",
       "      <th>X1</th>\n",
       "      <th>X2</th>\n",
       "      <th>X3</th>\n",
       "      <th>X4</th>\n",
       "      <th>X5</th>\n",
       "      <th>C</th>\n",
       "    </tr>\n",
       "  </thead>\n",
       "  <tbody>\n",
       "    <tr>\n",
       "      <th>0</th>\n",
       "      <td>-0.007564</td>\n",
       "      <td>0.222171</td>\n",
       "      <td>0.158978</td>\n",
       "      <td>1.159728</td>\n",
       "      <td>0.267387</td>\n",
       "      <td>0</td>\n",
       "    </tr>\n",
       "    <tr>\n",
       "      <th>1</th>\n",
       "      <td>0.171858</td>\n",
       "      <td>-0.041690</td>\n",
       "      <td>0.250635</td>\n",
       "      <td>0.165851</td>\n",
       "      <td>0.461043</td>\n",
       "      <td>0</td>\n",
       "    </tr>\n",
       "    <tr>\n",
       "      <th>2</th>\n",
       "      <td>0.736046</td>\n",
       "      <td>0.343963</td>\n",
       "      <td>0.749114</td>\n",
       "      <td>0.561858</td>\n",
       "      <td>0.712554</td>\n",
       "      <td>0</td>\n",
       "    </tr>\n",
       "    <tr>\n",
       "      <th>3</th>\n",
       "      <td>0.000639</td>\n",
       "      <td>-0.175082</td>\n",
       "      <td>0.070584</td>\n",
       "      <td>0.317284</td>\n",
       "      <td>0.582597</td>\n",
       "      <td>0</td>\n",
       "    </tr>\n",
       "    <tr>\n",
       "      <th>4</th>\n",
       "      <td>0.571760</td>\n",
       "      <td>-0.244216</td>\n",
       "      <td>0.234515</td>\n",
       "      <td>0.902095</td>\n",
       "      <td>0.594026</td>\n",
       "      <td>0</td>\n",
       "    </tr>\n",
       "    <tr>\n",
       "      <th>...</th>\n",
       "      <td>...</td>\n",
       "      <td>...</td>\n",
       "      <td>...</td>\n",
       "      <td>...</td>\n",
       "      <td>...</td>\n",
       "      <td>...</td>\n",
       "    </tr>\n",
       "    <tr>\n",
       "      <th>124</th>\n",
       "      <td>0.648946</td>\n",
       "      <td>0.946382</td>\n",
       "      <td>0.893618</td>\n",
       "      <td>0.539939</td>\n",
       "      <td>0.532365</td>\n",
       "      <td>1</td>\n",
       "    </tr>\n",
       "    <tr>\n",
       "      <th>125</th>\n",
       "      <td>0.768015</td>\n",
       "      <td>0.955685</td>\n",
       "      <td>0.495043</td>\n",
       "      <td>0.100583</td>\n",
       "      <td>0.836665</td>\n",
       "      <td>1</td>\n",
       "    </tr>\n",
       "    <tr>\n",
       "      <th>126</th>\n",
       "      <td>0.649908</td>\n",
       "      <td>0.845137</td>\n",
       "      <td>0.406619</td>\n",
       "      <td>0.654427</td>\n",
       "      <td>1.003261</td>\n",
       "      <td>1</td>\n",
       "    </tr>\n",
       "    <tr>\n",
       "      <th>127</th>\n",
       "      <td>0.221111</td>\n",
       "      <td>0.787071</td>\n",
       "      <td>0.318218</td>\n",
       "      <td>0.867372</td>\n",
       "      <td>0.682562</td>\n",
       "      <td>1</td>\n",
       "    </tr>\n",
       "    <tr>\n",
       "      <th>128</th>\n",
       "      <td>0.423381</td>\n",
       "      <td>1.089316</td>\n",
       "      <td>1.486272</td>\n",
       "      <td>0.250884</td>\n",
       "      <td>0.440059</td>\n",
       "      <td>1</td>\n",
       "    </tr>\n",
       "  </tbody>\n",
       "</table>\n",
       "<p>129 rows × 6 columns</p>\n",
       "</div>"
      ],
      "text/plain": [
       "           X1        X2        X3        X4        X5  C\n",
       "0   -0.007564  0.222171  0.158978  1.159728  0.267387  0\n",
       "1    0.171858 -0.041690  0.250635  0.165851  0.461043  0\n",
       "2    0.736046  0.343963  0.749114  0.561858  0.712554  0\n",
       "3    0.000639 -0.175082  0.070584  0.317284  0.582597  0\n",
       "4    0.571760 -0.244216  0.234515  0.902095  0.594026  0\n",
       "..        ...       ...       ...       ...       ... ..\n",
       "124  0.648946  0.946382  0.893618  0.539939  0.532365  1\n",
       "125  0.768015  0.955685  0.495043  0.100583  0.836665  1\n",
       "126  0.649908  0.845137  0.406619  0.654427  1.003261  1\n",
       "127  0.221111  0.787071  0.318218  0.867372  0.682562  1\n",
       "128  0.423381  1.089316  1.486272  0.250884  0.440059  1\n",
       "\n",
       "[129 rows x 6 columns]"
      ]
     },
     "execution_count": 10,
     "metadata": {},
     "output_type": "execute_result"
    }
   ],
   "source": [
    "data"
   ]
  },
  {
   "cell_type": "markdown",
   "id": "d38c228a",
   "metadata": {},
   "source": [
    "Plot to visualize the correlation of each column amongst itself"
   ]
  },
  {
   "cell_type": "code",
   "execution_count": 11,
   "id": "5abdabf5",
   "metadata": {},
   "outputs": [
    {
     "data": {
      "text/plain": [
       "<Axes: >"
      ]
     },
     "execution_count": 11,
     "metadata": {},
     "output_type": "execute_result"
    },
    {
     "data": {
      "image/png": "[encoded data removed]",
      "text/plain": [
       "<Figure size 640x480 with 2 Axes>"
      ]
     },
     "metadata": {},
     "output_type": "display_data"
    }
   ],
   "source": [
    "sns.heatmap(data.iloc[:,:-1].corr(), annot = True)"
   ]
  },
  {
   "cell_type": "markdown",
   "id": "5ac663fe",
   "metadata": {},
   "source": [
    "There ara no columns which are highly correlated to each other and hence there is no need to drop any column"
   ]
  },
  {
   "cell_type": "markdown",
   "id": "f5591ea2",
   "metadata": {},
   "source": [
    "Splitting the dataset to into independent variables and target variables"
   ]
  },
  {
   "cell_type": "code",
   "execution_count": 12,
   "id": "66547a00",
   "metadata": {},
   "outputs": [],
   "source": [
    "features = data.drop('C',axis= 'columns')\n",
    "target = data['C']"
   ]
  },
  {
   "cell_type": "markdown",
   "id": "b9b31670",
   "metadata": {},
   "source": [
    "Feature Scaling Apply MinMaxScaler: This extimator scales and translates each feature individually such that it is in given range on trainng set"
   ]
  },
  {
   "cell_type": "code",
   "execution_count": 13,
   "id": "51f48f15",
   "metadata": {},
   "outputs": [],
   "source": [
    "mms = MinMaxScaler()\n",
    "nfeatures = mms.fit_transform(features)"
   ]
  },
  {
   "cell_type": "markdown",
   "id": "cbeb507b",
   "metadata": {},
   "source": [
    "Training and testing of dataset"
   ]
  },
  {
   "cell_type": "code",
   "execution_count": 14,
   "id": "a997152e",
   "metadata": {},
   "outputs": [],
   "source": [
    "x_train, x_test, y_train, y_test = train_test_split(nfeatures, target, random_state = 52, test_size = .30, stratify=target)"
   ]
  },
  {
   "cell_type": "markdown",
   "id": "fbc5ef85",
   "metadata": {},
   "source": [
    "### Application of Naive Bayes"
   ]
  },
  {
   "cell_type": "markdown",
   "id": "5357306f",
   "metadata": {},
   "source": [
    "Model building"
   ]
  },
  {
   "cell_type": "code",
   "execution_count": 15,
   "id": "6854ab96",
   "metadata": {},
   "outputs": [
    {
     "data": {
      "text/html": [
       "<style>#sk-container-id-1 {color: black;}#sk-container-id-1 pre{padding: 0;}#sk-container-id-1 div.sk-toggleable {background-color: white;}#sk-container-id-1 label.sk-toggleable__label {cursor: pointer;display: block;width: 100%;margin-bottom: 0;padding: 0.3em;box-sizing: border-box;text-align: center;}#sk-container-id-1 label.sk-toggleable__label-arrow:before {content: \"▸\";float: left;margin-right: 0.25em;color: #696969;}#sk-container-id-1 label.sk-toggleable__label-arrow:hover:before {color: black;}#sk-container-id-1 div.sk-estimator:hover label.sk-toggleable__label-arrow:before {color: black;}#sk-container-id-1 div.sk-toggleable__content {max-height: 0;max-width: 0;overflow: hidden;text-align: left;background-color: #f0f8ff;}#sk-container-id-1 div.sk-toggleable__content pre {margin: 0.2em;color: black;border-radius: 0.25em;background-color: #f0f8ff;}#sk-container-id-1 input.sk-toggleable__control:checked~div.sk-toggleable__content {max-height: 200px;max-width: 100%;overflow: auto;}#sk-container-id-1 input.sk-toggleable__control:checked~label.sk-toggleable__label-arrow:before {content: \"▾\";}#sk-container-id-1 div.sk-estimator input.sk-toggleable__control:checked~label.sk-toggleable__label {background-color: #d4ebff;}#sk-container-id-1 div.sk-label input.sk-toggleable__control:checked~label.sk-toggleable__label {background-color: #d4ebff;}#sk-container-id-1 input.sk-hidden--visually {border: 0;clip: rect(1px 1px 1px 1px);clip: rect(1px, 1px, 1px, 1px);height: 1px;margin: -1px;overflow: hidden;padding: 0;position: absolute;width: 1px;}#sk-container-id-1 div.sk-estimator {font-family: monospace;background-color: #f0f8ff;border: 1px dotted black;border-radius: 0.25em;box-sizing: border-box;margin-bottom: 0.5em;}#sk-container-id-1 div.sk-estimator:hover {background-color: #d4ebff;}#sk-container-id-1 div.sk-parallel-item::after {content: \"\";width: 100%;border-bottom: 1px solid gray;flex-grow: 1;}#sk-container-id-1 div.sk-label:hover label.sk-toggleable__label {background-color: #d4ebff;}#sk-container-id-1 div.sk-serial::before {content: \"\";position: absolute;border-left: 1px solid gray;box-sizing: border-box;top: 0;bottom: 0;left: 50%;z-index: 0;}#sk-container-id-1 div.sk-serial {display: flex;flex-direction: column;align-items: center;background-color: white;padding-right: 0.2em;padding-left: 0.2em;position: relative;}#sk-container-id-1 div.sk-item {position: relative;z-index: 1;}#sk-container-id-1 div.sk-parallel {display: flex;align-items: stretch;justify-content: center;background-color: white;position: relative;}#sk-container-id-1 div.sk-item::before, #sk-container-id-1 div.sk-parallel-item::before {content: \"\";position: absolute;border-left: 1px solid gray;box-sizing: border-box;top: 0;bottom: 0;left: 50%;z-index: -1;}#sk-container-id-1 div.sk-parallel-item {display: flex;flex-direction: column;z-index: 1;position: relative;background-color: white;}#sk-container-id-1 div.sk-parallel-item:first-child::after {align-self: flex-end;width: 50%;}#sk-container-id-1 div.sk-parallel-item:last-child::after {align-self: flex-start;width: 50%;}#sk-container-id-1 div.sk-parallel-item:only-child::after {width: 0;}#sk-container-id-1 div.sk-dashed-wrapped {border: 1px dashed gray;margin: 0 0.4em 0.5em 0.4em;box-sizing: border-box;padding-bottom: 0.4em;background-color: white;}#sk-container-id-1 div.sk-label label {font-family: monospace;font-weight: bold;display: inline-block;line-height: 1.2em;}#sk-container-id-1 div.sk-label-container {text-align: center;}#sk-container-id-1 div.sk-container {/* jupyter's `normalize.less` sets `[hidden] { display: none; }` but bootstrap.min.css set `[hidden] { display: none !important; }` so we also need the `!important` here to be able to override the default hidden behavior on the sphinx rendered scikit-learn.org. See: https://github.com/scikit-learn/scikit-learn/issues/21755 */display: inline-block !important;position: relative;}#sk-container-id-1 div.sk-text-repr-fallback {display: none;}</style><div id=\"sk-container-id-1\" class=\"sk-top-container\"><div class=\"sk-text-repr-fallback\"><pre>GaussianNB()</pre><b>In a Jupyter environment, please rerun this cell to show the HTML representation or trust the notebook. <br />On GitHub, the HTML representation is unable to render, please try loading this page with nbviewer.org.</b></div><div class=\"sk-container\" hidden><div class=\"sk-item\"><div class=\"sk-estimator sk-toggleable\"><input class=\"sk-toggleable__control sk-hidden--visually\" id=\"sk-estimator-id-1\" type=\"checkbox\" checked><label for=\"sk-estimator-id-1\" class=\"sk-toggleable__label sk-toggleable__label-arrow\">GaussianNB</label><div class=\"sk-toggleable__content\"><pre>GaussianNB()</pre></div></div></div></div></div>"
      ],
      "text/plain": [
       "GaussianNB()"
      ]
     },
     "execution_count": 15,
     "metadata": {},
     "output_type": "execute_result"
    }
   ],
   "source": [
    "nb_model= GaussianNB()\n",
    "nb_model.fit(x_train, y_train)"
   ]
  },
  {
   "cell_type": "markdown",
   "id": "6f1ae92b",
   "metadata": {},
   "source": [
    "Predictions"
   ]
  },
  {
   "cell_type": "code",
   "execution_count": 16,
   "id": "b9248efb",
   "metadata": {},
   "outputs": [],
   "source": [
    "nb_pred = nb_model.predict(x_test)"
   ]
  },
  {
   "cell_type": "markdown",
   "id": "be4f10a7",
   "metadata": {},
   "source": [
    "Accuracy"
   ]
  },
  {
   "cell_type": "code",
   "execution_count": 17,
   "id": "47a58970",
   "metadata": {},
   "outputs": [
    {
     "name": "stdout",
     "output_type": "stream",
     "text": [
      "Naive Bayes-Accuracy: 0.717948717948718\n"
     ]
    }
   ],
   "source": [
    "nb_acc = accuracy_score(y_test,nb_pred)\n",
    "print(\"Naive Bayes-Accuracy:\", nb_acc)"
   ]
  },
  {
   "cell_type": "markdown",
   "id": "3b410b6f",
   "metadata": {},
   "source": [
    "### Naive Bayes"
   ]
  },
  {
   "attachments": {
    "image1.png": {
     "image/png": "[encoded data removed]"
    }
   },
   "cell_type": "markdown",
   "id": "99c928b9",
   "metadata": {},
   "source": [
    "A machine learning algorith GaussianNB is very good in class label prediction based on numerical features. It functions by constructing a probabilistic model based on the assumption that each class's features have a Gaussian distribution.\n",
    "\n",
    "The model operates by the following manner:\n",
    "\n",
    "- Distribution:The probability distribution of every feature within each class is carefully mapped out by GaussianNB. It is predicated on the idea that features are independent of one another, which means that the value or existence of one feature has no bearing on the other characteristics in the same class.\n",
    "\n",
    "- Learning: Each protein in this dataset is identified by characteristics (X1 to X5) and has a class label ('C') that corresponds to its position. The Gaussian distribution's mean and standard deviation are precisely estimated by the model for every feature in every class as it is being trained.\n",
    "\n",
    "- Decision: Naïve Bayes makes deliberate decisions based on probabilities rather than merely speculating on the location of proteins. The model determines the likelihood that a protein belongs in a certain possible location based on its observable characteristics. Like a discriminating travel agent, the model suggests the place where the protein is most likely to reside based on its highest computed likelihood.\n",
    "\n",
    "- Prediction: Based on its observable attributes, GaussianNB is taught to predict a protein's class label. This is achieved by computing the likelihood of the observed traits for each class, taking into account the probability of the protein belonging to that class. At the end, the forecast belongs to the class with the highest probability.\n",
    "\n",
    "Lets understand few terms with respect to Naive Bayes\n",
    "- Bayes' Theorem : Bayes' theorem relates the conditional and marginal probabilities of random events. For a binary classification task, it can be expressed as follows: ![image1.png](attachment:image1.png)\n",
    "\n",
    "where:\n",
    "- P(Class∣Features): Posterior probability of class over features.\n",
    "- P(Features∣Class) : Likelihood of featuers of the class.\n",
    "- P(Class) : Probability of class.\n",
    "- P(features) : Probability of features.\n"
   ]
  },
  {
   "attachments": {
    "image2.png": {
     "image/png": "[encoded data removed]"
    }
   },
   "cell_type": "markdown",
   "id": "0166704c",
   "metadata": {},
   "source": [
    "Naive Bayes assumes other classes as independent so it can be expressed as:\n",
    "P(Features|Class)=P(Feature1|Class).P(Feature2|Class).........P(Feature(n)|Class)\n",
    "\n",
    "- Guassian NB\n",
    "Naive Bayes assumes a Gaussian (normal) distribution for each feature within each class when dealing with continuous features. An example of modelling the likelihood term is a Gaussian probability density function:\n",
    "\n",
    "![image2.png](attachment:image2.png)\n",
    "\n",
    "Where:\n",
    "- μ is the mean of the feature.\n",
    "- σ^2 : is the variance of the feature."
   ]
  },
  {
   "cell_type": "markdown",
   "id": "37fb61f4",
   "metadata": {},
   "source": [
    "### Model Validation Naive Bayes model"
   ]
  },
  {
   "cell_type": "code",
   "execution_count": 18,
   "id": "462d4515",
   "metadata": {},
   "outputs": [
    {
     "name": "stdout",
     "output_type": "stream",
     "text": [
      "\n",
      "Classification Report:\n",
      "               precision    recall  f1-score   support\n",
      "\n",
      "           0       0.75      0.78      0.77        23\n",
      "           1       0.67      0.62      0.65        16\n",
      "\n",
      "    accuracy                           0.72        39\n",
      "   macro avg       0.71      0.70      0.71        39\n",
      "weighted avg       0.72      0.72      0.72        39\n",
      "\n"
     ]
    }
   ],
   "source": [
    "nb_cr = classification_report(y_test, nb_pred)\n",
    "print(\"\\nClassification Report:\\n\", nb_cr)"
   ]
  },
  {
   "cell_type": "markdown",
   "id": "dd27352b",
   "metadata": {},
   "source": [
    "### Precision, Recall, and F1-Score: with respect to individual classes from the above results\n",
    "Precision: It calculates the proportion of instances predicted as belonging to a specific class that were actually correct.\n",
    "- Precision for class 0 is 0.70. This means that among all instances predicted as class 0, 70% were correctly classified, indicating a moderate level of precision.\n",
    "\n",
    "- Precision for class 1 is 0.60. Among all instances predicted as class 1, 60% were correctly classified, suggesting a lower precision for this class.\n",
    "\n",
    "Recall:  It measures the proportion of actual instances belonging to a specific class that the model correctly identified.\n",
    "- Recall for class 0 is 0.80. This indicates that the model correctly identified 80% of all actual instances belonging to class 0.\n",
    "\n",
    "- Recall for class 1 is 0.46. The model correctly identified only 46% of all actual instances belonging to class 1.\n",
    "\n",
    "F1 Score:It strikes a balance between precision and recall, offering a harmonic mean.\n",
    "- F1-score for class 0 is 0.74. It represents the harmonic mean of precision and recall for class 0.\n",
    "\n",
    "- F1-score for class 1 is 0.52, reflecting the balance between precision and recall for class 1.\n",
    "\n",
    "Accuracy:Accuracy takes a step back and looks at the overall picture. It simply calculates the proportion of all predictions the model got right, regardless of class.\n",
    "- The overall accuracy of the model is 0.67 (67%). This metric provides a general measure of correct predictions, but it may not be sufficient if there is a class imbalance, but since we don't have class imbalance so we can consider the model is performing untill this point only\n",
    "\n",
    "\n",
    "\n",
    "Overall:\n",
    "\n",
    "- For class 0 proteins, the model predicts them with good precision (70%) and recall (80%). This implies that the model catches 80% of the real inner membrane proteins and is accurate 70% of the time when predicting a protein to be in the inner membrane.\n",
    "\n",
    "- For Class 1 proteins, the model performs less well for periplasmic proteins (class 1). Recall is also lower (46%), suggesting that the model misses some real periplasmic proteins, and precision is worse (60%), suggesting more false positives."
   ]
  },
  {
   "cell_type": "markdown",
   "id": "dad11042",
   "metadata": {},
   "source": [
    "### Confusion matrix for Naive Bayes model output"
   ]
  },
  {
   "cell_type": "code",
   "execution_count": 19,
   "id": "d0dc165c",
   "metadata": {},
   "outputs": [
    {
     "data": {
      "text/plain": [
       "array([[18,  5],\n",
       "       [ 6, 10]], dtype=int64)"
      ]
     },
     "execution_count": 19,
     "metadata": {},
     "output_type": "execute_result"
    }
   ],
   "source": [
    "nb_cm= confusion_matrix(y_test, nb_pred, labels=nb_model.classes_)\n",
    "nb_cm"
   ]
  },
  {
   "cell_type": "code",
   "execution_count": 35,
   "id": "13f00fbd",
   "metadata": {},
   "outputs": [
    {
     "data": {
      "image/png": "[encoded data removed]",
      "text/plain": [
       "<Figure size 600x500 with 2 Axes>"
      ]
     },
     "metadata": {},
     "output_type": "display_data"
    }
   ],
   "source": [
    "# Create a Seaborn heatmap for visualization\n",
    "plt.figure(figsize=(6, 5))\n",
    "sns.heatmap(nb_cm, annot=True, fmt='d', cmap='Blues', xticklabels=nb_model.classes_, yticklabels=nb_model.classes_)\n",
    "plt.xlabel('Predicted')\n",
    "plt.ylabel('Actual')\n",
    "plt.title('Confusion-Matrix for Naive Bayes')\n",
    "plt.show()"
   ]
  },
  {
   "cell_type": "markdown",
   "id": "3121e3ae",
   "metadata": {},
   "source": [
    "### Application of Logistic Regression"
   ]
  },
  {
   "cell_type": "markdown",
   "id": "06f30525",
   "metadata": {},
   "source": [
    "Model building"
   ]
  },
  {
   "cell_type": "code",
   "execution_count": 20,
   "id": "8e4d76fb",
   "metadata": {},
   "outputs": [
    {
     "data": {
      "text/html": [
       "<style>#sk-container-id-2 {color: black;}#sk-container-id-2 pre{padding: 0;}#sk-container-id-2 div.sk-toggleable {background-color: white;}#sk-container-id-2 label.sk-toggleable__label {cursor: pointer;display: block;width: 100%;margin-bottom: 0;padding: 0.3em;box-sizing: border-box;text-align: center;}#sk-container-id-2 label.sk-toggleable__label-arrow:before {content: \"▸\";float: left;margin-right: 0.25em;color: #696969;}#sk-container-id-2 label.sk-toggleable__label-arrow:hover:before {color: black;}#sk-container-id-2 div.sk-estimator:hover label.sk-toggleable__label-arrow:before {color: black;}#sk-container-id-2 div.sk-toggleable__content {max-height: 0;max-width: 0;overflow: hidden;text-align: left;background-color: #f0f8ff;}#sk-container-id-2 div.sk-toggleable__content pre {margin: 0.2em;color: black;border-radius: 0.25em;background-color: #f0f8ff;}#sk-container-id-2 input.sk-toggleable__control:checked~div.sk-toggleable__content {max-height: 200px;max-width: 100%;overflow: auto;}#sk-container-id-2 input.sk-toggleable__control:checked~label.sk-toggleable__label-arrow:before {content: \"▾\";}#sk-container-id-2 div.sk-estimator input.sk-toggleable__control:checked~label.sk-toggleable__label {background-color: #d4ebff;}#sk-container-id-2 div.sk-label input.sk-toggleable__control:checked~label.sk-toggleable__label {background-color: #d4ebff;}#sk-container-id-2 input.sk-hidden--visually {border: 0;clip: rect(1px 1px 1px 1px);clip: rect(1px, 1px, 1px, 1px);height: 1px;margin: -1px;overflow: hidden;padding: 0;position: absolute;width: 1px;}#sk-container-id-2 div.sk-estimator {font-family: monospace;background-color: #f0f8ff;border: 1px dotted black;border-radius: 0.25em;box-sizing: border-box;margin-bottom: 0.5em;}#sk-container-id-2 div.sk-estimator:hover {background-color: #d4ebff;}#sk-container-id-2 div.sk-parallel-item::after {content: \"\";width: 100%;border-bottom: 1px solid gray;flex-grow: 1;}#sk-container-id-2 div.sk-label:hover label.sk-toggleable__label {background-color: #d4ebff;}#sk-container-id-2 div.sk-serial::before {content: \"\";position: absolute;border-left: 1px solid gray;box-sizing: border-box;top: 0;bottom: 0;left: 50%;z-index: 0;}#sk-container-id-2 div.sk-serial {display: flex;flex-direction: column;align-items: center;background-color: white;padding-right: 0.2em;padding-left: 0.2em;position: relative;}#sk-container-id-2 div.sk-item {position: relative;z-index: 1;}#sk-container-id-2 div.sk-parallel {display: flex;align-items: stretch;justify-content: center;background-color: white;position: relative;}#sk-container-id-2 div.sk-item::before, #sk-container-id-2 div.sk-parallel-item::before {content: \"\";position: absolute;border-left: 1px solid gray;box-sizing: border-box;top: 0;bottom: 0;left: 50%;z-index: -1;}#sk-container-id-2 div.sk-parallel-item {display: flex;flex-direction: column;z-index: 1;position: relative;background-color: white;}#sk-container-id-2 div.sk-parallel-item:first-child::after {align-self: flex-end;width: 50%;}#sk-container-id-2 div.sk-parallel-item:last-child::after {align-self: flex-start;width: 50%;}#sk-container-id-2 div.sk-parallel-item:only-child::after {width: 0;}#sk-container-id-2 div.sk-dashed-wrapped {border: 1px dashed gray;margin: 0 0.4em 0.5em 0.4em;box-sizing: border-box;padding-bottom: 0.4em;background-color: white;}#sk-container-id-2 div.sk-label label {font-family: monospace;font-weight: bold;display: inline-block;line-height: 1.2em;}#sk-container-id-2 div.sk-label-container {text-align: center;}#sk-container-id-2 div.sk-container {/* jupyter's `normalize.less` sets `[hidden] { display: none; }` but bootstrap.min.css set `[hidden] { display: none !important; }` so we also need the `!important` here to be able to override the default hidden behavior on the sphinx rendered scikit-learn.org. See: https://github.com/scikit-learn/scikit-learn/issues/21755 */display: inline-block !important;position: relative;}#sk-container-id-2 div.sk-text-repr-fallback {display: none;}</style><div id=\"sk-container-id-2\" class=\"sk-top-container\"><div class=\"sk-text-repr-fallback\"><pre>LogisticRegression()</pre><b>In a Jupyter environment, please rerun this cell to show the HTML representation or trust the notebook. <br />On GitHub, the HTML representation is unable to render, please try loading this page with nbviewer.org.</b></div><div class=\"sk-container\" hidden><div class=\"sk-item\"><div class=\"sk-estimator sk-toggleable\"><input class=\"sk-toggleable__control sk-hidden--visually\" id=\"sk-estimator-id-2\" type=\"checkbox\" checked><label for=\"sk-estimator-id-2\" class=\"sk-toggleable__label sk-toggleable__label-arrow\">LogisticRegression</label><div class=\"sk-toggleable__content\"><pre>LogisticRegression()</pre></div></div></div></div></div>"
      ],
      "text/plain": [
       "LogisticRegression()"
      ]
     },
     "execution_count": 20,
     "metadata": {},
     "output_type": "execute_result"
    }
   ],
   "source": [
    "logistic_model= LogisticRegression()\n",
    "logistic_model.fit(x_train, y_train)"
   ]
  },
  {
   "cell_type": "markdown",
   "id": "a9e7ab90",
   "metadata": {},
   "source": [
    "Predictions"
   ]
  },
  {
   "cell_type": "code",
   "execution_count": 26,
   "id": "2e1d62ff",
   "metadata": {},
   "outputs": [],
   "source": [
    "logistic_pred = logistic_model.predict(x_test)"
   ]
  },
  {
   "cell_type": "markdown",
   "id": "0a0ff3b0",
   "metadata": {},
   "source": [
    "Accuracy"
   ]
  },
  {
   "cell_type": "code",
   "execution_count": 27,
   "id": "d709c37c",
   "metadata": {},
   "outputs": [
    {
     "name": "stdout",
     "output_type": "stream",
     "text": [
      "Logistic Regression Accuracy: 0.7948717948717948\n"
     ]
    }
   ],
   "source": [
    "logistic_acc = accuracy_score(y_test, logistic_pred)\n",
    "print(\"Logistic Regression Accuracy:\", logistic_acc)"
   ]
  },
  {
   "cell_type": "markdown",
   "id": "af39c85b",
   "metadata": {},
   "source": [
    "### Logistic Regression"
   ]
  },
  {
   "cell_type": "markdown",
   "id": "cdc82fd6",
   "metadata": {},
   "source": [
    "Logistic Regression is a statistical model that predicts the probability of a binary outcome. When it comes to answering \"yes or no\" issues, such as identifying whether a protein is found in the periplasm or the inner membrane, regression is a powerful tool. The sigmoid function is a specialised function used by probability to convert raw scores into probabilities. This ensures that predictions lie between 0  and 1 (definitely periplasm). The model carefully modifies its parameters throughout training in order to produce the most accurate predictions. In order to achieve this, it either maximises the likelihood of the observed labels given the features or minimises the logistic loss. The model compares the computed probability to a predetermined threshold (often 0.5) in order to provide a prediction. Peristalsis is the most likely classification for the protein if the probability is higher than this cutoff. If not, it is identified as a component of the inner membrane.\n",
    "\n",
    "Model's Mathematical functionality:\n",
    "\n",
    "\n",
    "- Predict the Probability:\n",
    "P(y = 1 | x) = β0 + β1x1 + β2x2 + ... + βnxn\n",
    "\n",
    "Where:\n",
    "- P(y = 1 | x) is the probability of the protein being periplasmic given its features x. \n",
    "- β0 is intercept.\n",
    "- β1, β2, ..., βn are the coefficients of each feature.\n",
    "- x1, x2, ..., xn are the features.\n",
    "\n",
    "\n",
    "Sigmoid Function:\n",
    "Use the sigmoid function to map the linear prediction to a probability between 0 and 1:\n",
    "σ(z) = 1 / (1 + e^(-z))\n",
    "\n",
    "Where:\n",
    "- σ(z) is the sigmoid function.\n",
    "- z is the linear prediction (β0 + β1x1 + β2x2 + ... + βnxn).\n",
    "\n",
    "Training the Model:\n",
    "Estimate the parameters (β0, β1, ..., βn) using optimization techniques:\n",
    "- Minimize the logistic loss:\n",
    "L(β) = -Σ[yi * log(σ(zi)) + (1 - yi) * log(1 - σ(zi))]\n",
    "\n",
    "- Maximize the likelihood:\n",
    "L(β) = Π[σ(zi)^(yi) * (1 - σ(zi))^(1-yi)]\n",
    "\n",
    "Prediction:\n",
    "\n",
    "- Calculate the probability of the protein being periplasmic:\n",
    "P(y = 1 | x) = σ(β0 + β1x1 + β2x2 + ... + βpxp)\n",
    "\n",
    "- Compare the probability to a threshold (usually 0.5):\n",
    "If P(y = 1 | x) > 0.5, classify as periplasmic.\n",
    "Otherwise, classify as inner membrane."
   ]
  },
  {
   "cell_type": "markdown",
   "id": "32591a6a",
   "metadata": {},
   "source": [
    "### Model Validation Logistic Regression model"
   ]
  },
  {
   "cell_type": "code",
   "execution_count": 28,
   "id": "e263e2c7",
   "metadata": {},
   "outputs": [
    {
     "name": "stdout",
     "output_type": "stream",
     "text": [
      "\n",
      "Classification Report:\n",
      "               precision    recall  f1-score   support\n",
      "\n",
      "           0       0.76      0.96      0.85        23\n",
      "           1       0.90      0.56      0.69        16\n",
      "\n",
      "    accuracy                           0.79        39\n",
      "   macro avg       0.83      0.76      0.77        39\n",
      "weighted avg       0.82      0.79      0.78        39\n",
      "\n"
     ]
    }
   ],
   "source": [
    "logistic_cr = classification_report(y_test, logistic_pred)\n",
    "print(\"\\nClassification Report:\\n\", logistic_cr)"
   ]
  },
  {
   "cell_type": "markdown",
   "id": "422d8b10",
   "metadata": {},
   "source": [
    "### Precision, Recall, and F1-Score Analysis:\n",
    "\n",
    "Precision:\n",
    "\n",
    "- Precision (class 0): 0.73 this means among all instances predicted as class 0 (inner membrane), 73% were correctly classified. This indicates a good level of precision for predicting inner membrane proteins.\n",
    "\n",
    "- Precision (class 1) : 0.86 this means among all instances predicted as class 1 (periplasm), 86% were correctly classified. This suggests a high precision for predicting periplasmic proteins.\n",
    "\n",
    "Recall:\n",
    "\n",
    "- Recall (class 0): 0.95 this means the model correctly identified 95% of all actual instances belonging to class 0 (inner membrane). This indicates excellent recall for inner membrane proteins.\n",
    "\n",
    "- Recall(class 1): 0.46 means model correctly identified only 46% of all actual instances belonging to class 1 (periplasm). This suggests that the recall for periplasmic proteins is lower.\n",
    "\n",
    "F1 Score:\n",
    "\n",
    "- F1-Score (class 0) : 0.83 means the F1-score for inner membrane proteins is 0.83, representing a harmonic mean of precision and recall. This suggests a balanced performance for predicting class 0.\n",
    "\n",
    "- F1-Score (class 1) : 0.60 this means the F1-score for periplasmic proteins is 0.60, indicating a balance between precision and recall. However, the lower value suggests some challenges in correctly classifying class 1 instances.\n",
    "\n",
    "Accuracy:\n",
    "\n",
    "- Accuracy: 0.76 (76%), the overall accuracy of the model is 76%, indicating that 76% of all predictions made by the model are correct. This provides a general measure of the model's performance.\n",
    "\n",
    "\n",
    "Overall:\n",
    "\n",
    "- Class 0 (Inner Membrane): The model performs well with good precision (73%) and excellent recall (95%) for inner membrane proteins. The F1-score (0.83) indicates a balanced performance.\n",
    "\n",
    "- Class 1 (Periplasm): While precision is high (86%), the lower recall (46%) and F1-score (0.60) suggest challenges in correctly identifying periplasmic proteins.\n",
    "\n",
    "p.s. Definitions of all the matrices are already been explained above."
   ]
  },
  {
   "cell_type": "markdown",
   "id": "85fe8983",
   "metadata": {},
   "source": [
    "### Confusion matrix for Logistic Regression model output"
   ]
  },
  {
   "cell_type": "code",
   "execution_count": 30,
   "id": "a6ad0f3e",
   "metadata": {},
   "outputs": [
    {
     "data": {
      "text/plain": [
       "array([[22,  1],\n",
       "       [ 7,  9]], dtype=int64)"
      ]
     },
     "execution_count": 30,
     "metadata": {},
     "output_type": "execute_result"
    }
   ],
   "source": [
    "logistic_cm = confusion_matrix(y_test, logistic_pred,labels=logistic_model.classes_)\n",
    "logistic_cm"
   ]
  },
  {
   "cell_type": "code",
   "execution_count": 23,
   "id": "92d1147c",
   "metadata": {},
   "outputs": [
    {
     "ename": "NameError",
     "evalue": "name 'logistic_cm' is not defined",
     "output_type": "error",
     "traceback": [
      "\u001b[1;31m---------------------------------------------------------------------------\u001b[0m",
      "\u001b[1;31mNameError\u001b[0m                                 Traceback (most recent call last)",
      "Cell \u001b[1;32mIn[23], line 3\u001b[0m\n\u001b[0;32m      1\u001b[0m \u001b[38;5;66;03m# Create a Seaborn heatmap for visualization\u001b[39;00m\n\u001b[0;32m      2\u001b[0m plt\u001b[38;5;241m.\u001b[39mfigure(figsize\u001b[38;5;241m=\u001b[39m(\u001b[38;5;241m5\u001b[39m, \u001b[38;5;241m5\u001b[39m))\n\u001b[1;32m----> 3\u001b[0m sns\u001b[38;5;241m.\u001b[39mheatmap(logistic_cm, annot\u001b[38;5;241m=\u001b[39m\u001b[38;5;28;01mTrue\u001b[39;00m, fmt\u001b[38;5;241m=\u001b[39m\u001b[38;5;124m'\u001b[39m\u001b[38;5;124md\u001b[39m\u001b[38;5;124m'\u001b[39m, cmap\u001b[38;5;241m=\u001b[39m\u001b[38;5;124m'\u001b[39m\u001b[38;5;124mBlues\u001b[39m\u001b[38;5;124m'\u001b[39m, xticklabels\u001b[38;5;241m=\u001b[39mlogistic_model\u001b[38;5;241m.\u001b[39mclasses_, yticklabels\u001b[38;5;241m=\u001b[39mlogistic_model\u001b[38;5;241m.\u001b[39mclasses_)\n\u001b[0;32m      4\u001b[0m plt\u001b[38;5;241m.\u001b[39mxlabel(\u001b[38;5;124m'\u001b[39m\u001b[38;5;124mPredicted\u001b[39m\u001b[38;5;124m'\u001b[39m)\n\u001b[0;32m      5\u001b[0m plt\u001b[38;5;241m.\u001b[39mylabel(\u001b[38;5;124m'\u001b[39m\u001b[38;5;124mActual\u001b[39m\u001b[38;5;124m'\u001b[39m)\n",
      "\u001b[1;31mNameError\u001b[0m: name 'logistic_cm' is not defined"
     ]
    },
    {
     "data": {
      "text/plain": [
       "<Figure size 500x500 with 0 Axes>"
      ]
     },
     "metadata": {},
     "output_type": "display_data"
    }
   ],
   "source": [
    "# Create a Seaborn heatmap for visualization\n",
    "plt.figure(figsize=(5, 5))\n",
    "sns.heatmap(logistic_cm, annot=True, fmt='d', cmap='Blues', xticklabels=logistic_model.classes_, yticklabels=logistic_model.classes_)\n",
    "plt.xlabel('Predicted')\n",
    "plt.ylabel('Actual')\n",
    "plt.title('Confusion Matrix')\n",
    "plt.show()\n"
   ]
  },
  {
   "cell_type": "markdown",
   "id": "7dccd518",
   "metadata": {},
   "source": [
    "### Confusion Matrix\n",
    "A table shows a classification model's performance is called a confusion matrix.It contrasts the actual classes of the data with the predicted classes of the model. It aids in determining the model's advantages and disadvantages in terms of class distinction.\n",
    "\n",
    "Key terms:\n",
    "\n",
    "- TP (True Positive): Cases where the model accurately predicted a positive class are known as True Positives (TP).\n",
    "\n",
    "- FP (False Positive): Cases in which a positive class was mistakenly predicted by the model (Type I error).\n",
    "\n",
    "- TN (True Negative) : Cases when the model accurately predicted a negative class are known as True Negatives (TN).\n",
    "\n",
    "- FN (False Negative) : Cases when instances in which a Type II error occurred because the model predicted a negative class wrongly.\n",
    "\n",
    "Beyond overall accuracy, the confusion matrix offers a more detailed assessment of the model's performance.\n",
    "It identifies particular kinds of mistakes, enabling focused fixes.\n",
    "\n",
    "How to Read:\n",
    "- Examine the matrix's rows, which usually correspond to the true classes (e.g., 0 for negative, 1 for positive).\n",
    "- Compare predictions: Take a look at the columns, which show the anticipated class divisions.\n",
    "- Interpret values: The numbers in each cell show the proportion of instances that fell into each actual and anticipated class combination."
   ]
  },
  {
   "cell_type": "markdown",
   "id": "79a3df70",
   "metadata": {},
   "source": [
    "Calculating the probabilities, False Positive Rate (fpr), True Positive Rate (tpr) for Naive Bayes "
   ]
  },
  {
   "cell_type": "code",
   "execution_count": 52,
   "id": "102d2205",
   "metadata": {},
   "outputs": [],
   "source": [
    "nb_prob = nb_model.predict_proba(x_test)[:,1]\n",
    "fpr_nb_model, tpr_nb_model, thresholds_nb_model = roc_curve(y_test,nb_prob)"
   ]
  },
  {
   "cell_type": "markdown",
   "id": "df54632a",
   "metadata": {},
   "source": [
    "Calculating the AUC score"
   ]
  },
  {
   "cell_type": "code",
   "execution_count": 57,
   "id": "2c6c3e55",
   "metadata": {},
   "outputs": [
    {
     "data": {
      "text/plain": [
       "0.8016304347826088"
      ]
     },
     "execution_count": 57,
     "metadata": {},
     "output_type": "execute_result"
    }
   ],
   "source": [
    "roc_auc_NB = auc(fpr_nb_model, tpr_nb_model)\n",
    "roc_auc_NB"
   ]
  },
  {
   "cell_type": "markdown",
   "id": "bd444c6d",
   "metadata": {},
   "source": [
    "Plotting the ROC curve"
   ]
  },
  {
   "cell_type": "code",
   "execution_count": 58,
   "id": "d1220c1a",
   "metadata": {},
   "outputs": [
    {
     "data": {
      "image/png": "[encoded data removed]",
      "text/plain": [
       "<Figure size 800x600 with 1 Axes>"
      ]
     },
     "metadata": {},
     "output_type": "display_data"
    }
   ],
   "source": [
    "# Plot ROC curve\n",
    "plt.figure(figsize=(8, 6))\n",
    "plt.plot(fpr_nb_model, tpr_nb_model, label=f'ROC Curve (AUC = {roc_auc_NB:.3f})', color='green')\n",
    "plt.plot([0, 1], [0, 1], linestyle='--', color='gray', label='Random Guessing')\n",
    "plt.title('Receiver Operating Characteristic (ROC)')\n",
    "plt.xlabel('False Positive Rate (FPR)')\n",
    "plt.ylabel('True Positive Rate (TPR)')\n",
    "plt.legend(loc='lower right')\n",
    "plt.tight_layout()\n",
    "plt.show()"
   ]
  },
  {
   "cell_type": "markdown",
   "id": "d642cd12",
   "metadata": {},
   "source": [
    "One statistic used to assess a classification model's performance is the Area Under the Receiver Operating Characteristic curve (AUC-ROC), especially in binary classification tasks. It assesses the model's capacity to distinguish between the positive and negative classes at various threshold levels. Greater values of the AUC value, which goes from 0 to 1, indicate better discriminating.\n",
    "\n",
    "Inorder to understand AUC-ROC lets understand few terms first:\n",
    "- True Positive Rate : The ratio of accurately predicted positive instances to all actual positive instances is known as the True Positive Rate (TPR). It goes by the names sensitivity as well.\n",
    "- False Positive Rate : The ratio of all real negative instances to all mistakenly anticipated positive instances is known as the False Positive Rate. 1−Specificity is the formula used to determine it, where Specificity is the ratio of all real negative instances to all correctly anticipated negative instances.\n",
    "\n",
    "- ROC : A graphical representation of the model's performance across different categorization criteria is called a ROC curve. Plotting the True Positive Rate (Sensitivity) vs the False Positive Rate (1 - Specificity) for various threshold settings yields this result.\n",
    "\n",
    "- AUC-ROC: To calculate AUC-ROC, one must first find the area under the ROC curve. It has a range of 0 to 1, with 1 denoting a perfect classifier and 0.5 representing a random classifier.The model's moderate ability to distinguish between the positive and negative classes is indicated by its AUC score of 0.7346. The model's ability to discriminate between the two classes is better when the AUC is higher.\n",
    "\n",
    "\n",
    "Results Interpretation\n",
    "- 0.5 to 0.6: Inadequate differentiation. The model outperforms chance at random.\n",
    "\n",
    "- 0.6–0.7: Reasonable discrimination. There is some class distinction capability in the model.\n",
    "\n",
    "- 0.7 to 0.8: Sufficient differentiation. The model's capacity to distinguish across classes is middling.\n",
    "\n",
    "- 0.8 to 0.9: Excellent discriminating ability. The model's capacity to discriminate across classes is high.\n",
    "\n",
    "- 0.9–1.0: Outstanding ability to discriminate. The model does a remarkable job of differentiating between classes."
   ]
  },
  {
   "cell_type": "markdown",
   "id": "57db08e2",
   "metadata": {},
   "source": [
    "Calculating the probabilities, False Positive Rate (fpr), True Positive Rate (tpr) for Logistic Regression"
   ]
  },
  {
   "cell_type": "code",
   "execution_count": 59,
   "id": "ef155aca",
   "metadata": {},
   "outputs": [],
   "source": [
    "LR_prob = logistic_model.predict_proba(x_test)[:,1]\n",
    "fpr_logistic_model, tpr_logistic_model, thresholds_logistic_model = roc_curve(y_test,LR_prob)\n"
   ]
  },
  {
   "cell_type": "markdown",
   "id": "15ea160f",
   "metadata": {},
   "source": [
    "Calculating the AUC score"
   ]
  },
  {
   "cell_type": "code",
   "execution_count": 60,
   "id": "527a0277",
   "metadata": {},
   "outputs": [
    {
     "data": {
      "text/plain": [
       "0.861413043478261"
      ]
     },
     "execution_count": 60,
     "metadata": {},
     "output_type": "execute_result"
    }
   ],
   "source": [
    "roc_auc_LR = auc(fpr_logistic_model, tpr_logistic_model)\n",
    "roc_auc_LR"
   ]
  },
  {
   "cell_type": "code",
   "execution_count": 62,
   "id": "f3d61702",
   "metadata": {},
   "outputs": [
    {
     "data": {
      "image/png": "[encoded data removed]",
      "text/plain": [
       "<Figure size 800x600 with 1 Axes>"
      ]
     },
     "metadata": {},
     "output_type": "display_data"
    }
   ],
   "source": [
    "# Plot ROC curve\n",
    "plt.figure(figsize=(8, 6))\n",
    "plt.plot(fpr_logistic_model, tpr_logistic_model, label=f'ROC Curve (AUC = {roc_auc_LR:.3f})', color='green')\n",
    "plt.plot([0, 1], [0, 1], linestyle='--', color='gray', label='Random Guessing')\n",
    "plt.title('Receiver Operating Characteristic (ROC)')\n",
    "plt.xlabel('False Positive Rate (FPR)')\n",
    "plt.ylabel('True Positive Rate (TPR)')\n",
    "plt.legend(loc='lower right')\n",
    "plt.tight_layout()\n",
    "plt.show()"
   ]
  },
  {
   "cell_type": "markdown",
   "id": "16808025",
   "metadata": {},
   "source": [
    "### Conclusion"
   ]
  },
  {
   "cell_type": "markdown",
   "id": "66535dd1",
   "metadata": {},
   "source": [
    "The dataset is subjected to both Logistic Regression and Naïve Bayes for the purpose of protein placement prediction. Naïve Bayes assumes certain things about the feature distribution, whereas Logistic Regression uses a linear function to describe the log-odds. We assess each model's performance with categorization measures. The features of the data and the underlying presumptions that are consistent with the nature of the dataset will determine which of the two models is best.\n",
    "\n",
    "After the results of the prediction, logistic Regression is performing better than Naive Bayes'. Although the AUC-ROC curve shows similar scores for Naive Bayes' and Logisitc regression the matrices Precision,recall,F1 score and accuracy tells us a different story in which the Logistic is performing better with accuracy of 76% with respect to 67%.\n",
    "\n",
    "Since the dataset size is small we may required to do few more works when we can get the dataset size significant the models sometimes beahves differently when datasset size is small but for this particular dataset Logistic achieves our result."
   ]
  },
  {
   "cell_type": "code",
   "execution_count": null,
   "id": "4973810a",
   "metadata": {},
   "outputs": [],
   "source": []
  }
 ],
 "metadata": {
  "kernelspec": {
   "display_name": "Python 3 (ipykernel)",
   "language": "python",
   "name": "python3"
  },
  "language_info": {
   "codemirror_mode": {
    "name": "ipython",
    "version": 3
   },
   "file_extension": ".py",
   "mimetype": "text/x-python",
   "name": "python",
   "nbconvert_exporter": "python",
   "pygments_lexer": "ipython3",
   "version": "3.11.5"
  }
 },
 "nbformat": 4,
 "nbformat_minor": 5
}
